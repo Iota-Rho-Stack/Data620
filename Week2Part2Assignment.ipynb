{
 "cells": [
  {
   "cell_type": "markdown",
   "metadata": {},
   "source": [
    "# Week 2 Part 2 - Assignment Centrality Measures"
   ]
  },
  {
   "cell_type": "markdown",
   "metadata": {},
   "source": [
    "Team Info\n",
    "\n",
    "Our team members are as follows:\n",
    "\n",
    "**Simon Ustoyev\n",
    "\n",
    "**Jack Russo\n",
    "\n",
    "**Elina Azrilyan\n",
    "\n",
    "**Anil Akyildirim\n"
   ]
  },
  {
   "cell_type": "markdown",
   "metadata": {},
   "source": [
    "For this Centrality Measures project our team chose to use a dataset which includes data on intra-organizational networks located here:\n",
    "\n",
    "https://toreopsahl.com/datasets/#Cross_Parker"
   ]
  },
  {
   "cell_type": "markdown",
   "metadata": {},
   "source": [
    "This dataset contains four intra-organizational networks, two are from a consulting company (46 employees) and two are from a research team in a manufacturing company (77 employees). There is a wide array of categorical data available about the nodes in each network: organizational level, gender, location, tenure, etc. \n",
    "\n",
    "We will read in the data on all 4 available network datasets and will merge it with the categorical data which is stored in separate files. We will determine which dataset works best for this analysis - it will likely be the one with the highest number of nodes edges, which is the data from the manufacturing company. We will see what predictions can be made from inter-organizational relationships and see what we can determine from calculating various centrality measures. We can calculate betweenness centrality to determine how complex the structure of this organization is. We will hypothesize that by comparing Degree Centrality across tenure groups will allow us to identify the most respected and well-connected employees in the organization. "
   ]
  },
  {
   "cell_type": "code",
   "execution_count": null,
   "metadata": {},
   "outputs": [],
   "source": []
  }
 ],
 "metadata": {
  "kernelspec": {
   "display_name": "Python 3",
   "language": "python",
   "name": "python3"
  },
  "language_info": {
   "codemirror_mode": {
    "name": "ipython",
    "version": 3
   },
   "file_extension": ".py",
   "mimetype": "text/x-python",
   "name": "python",
   "nbconvert_exporter": "python",
   "pygments_lexer": "ipython3",
   "version": "3.7.2"
  }
 },
 "nbformat": 4,
 "nbformat_minor": 2
}
